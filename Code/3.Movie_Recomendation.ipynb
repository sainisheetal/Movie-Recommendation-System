{
 "cells": [
  {
   "attachments": {},
   "cell_type": "markdown",
   "metadata": {},
   "source": [
    "Pipeline outline\n",
    "A. Data Preprocessing\n",
    "\n",
    "Observe data set\n",
    "Combine plots from both sources\n",
    "Tokenizing\n",
    "Stemming\n",
    "Wrap-up steps 3 and 4 in a function!\n",
    "B. Feature Engineering \n",
    "   TF-IDF: Term Frequency - Inverse Document Frequency\n",
    "\n",
    "C. Modeling\n",
    "\n",
    "Approach 1: Grouping using KMeans Clustering\n",
    "Approach 2: Comparing movie similarities using Cosine Similarity and Linkage\n",
    "D. Final Thoughts"
   ]
  },
  {
   "attachments": {},
   "cell_type": "markdown",
   "metadata": {},
   "source": [
    "Recommendation Systems:\n",
    "* Simple recommenders: Movie popularity or genre\n",
    "* Content-based recommenders: Uses metadata to suggest what you should watch next"
   ]
  },
  {
   "attachments": {},
   "cell_type": "markdown",
   "metadata": {},
   "source": [
    "Here, we are recommending the movies to the viewers on the basis of Movies_Metadata. After doing all the analysis, movies will be suggested to the viewers"
   ]
  },
  {
   "cell_type": "code",
   "execution_count": 99,
   "metadata": {},
   "outputs": [],
   "source": [
    "from sklearn.feature_extraction.text import TfidfVectorizer\n",
    "from sklearn.metrics.pairwise import cosine_similarity\n",
    "import pandas as pd\n",
    "import numpy as np"
   ]
  },
  {
   "cell_type": "code",
   "execution_count": 100,
   "metadata": {},
   "outputs": [],
   "source": [
    "import string\n",
    "import re"
   ]
  },
  {
   "cell_type": "code",
   "execution_count": 101,
   "metadata": {},
   "outputs": [],
   "source": [
    "df = pd.read_csv(\"D:\\Becode_Projects\\Movie-Recommendation-System\\Code\\Movies.csv\")"
   ]
  },
  {
   "cell_type": "code",
   "execution_count": 102,
   "metadata": {},
   "outputs": [
    {
     "name": "stdout",
     "output_type": "stream",
     "text": [
      "\n",
      "    \n",
      "    -- Info --\n",
      "    \n",
      "    adult                       bool\n",
      "belongs_to_collection     object\n",
      "budget                     int64\n",
      "genres                    object\n",
      "homepage                  object\n",
      "id                         int64\n",
      "imdb_id                   object\n",
      "original_language         object\n",
      "original_title            object\n",
      "overview                  object\n",
      "popularity               float64\n",
      "poster_path               object\n",
      "production_companies      object\n",
      "production_countries      object\n",
      "release_date              object\n",
      "revenue                    int64\n",
      "runtime                    int64\n",
      "spoken_languages          object\n",
      "status                    object\n",
      "tagline                   object\n",
      "title                     object\n",
      "video                       bool\n",
      "vote_average             float64\n",
      "vote_count                 int64\n",
      "dtype: object\n",
      "    \n",
      "    -- NaN Values --\n",
      "    \n",
      "    adult                      0\n",
      "belongs_to_collection    258\n",
      "budget                     0\n",
      "genres                     0\n",
      "homepage                 282\n",
      "id                         0\n",
      "imdb_id                    0\n",
      "original_language          0\n",
      "original_title             0\n",
      "overview                   1\n",
      "popularity                 0\n",
      "poster_path                0\n",
      "production_companies       0\n",
      "production_countries       0\n",
      "release_date               0\n",
      "revenue                    0\n",
      "runtime                    0\n",
      "spoken_languages           0\n",
      "status                     1\n",
      "tagline                   61\n",
      "title                      0\n",
      "video                      0\n",
      "vote_average               0\n",
      "vote_count                 0\n",
      "dtype: int64\n",
      "    \n",
      "    -- Shape --\n",
      "    \n",
      "    (299, 24)\n",
      "    \n",
      "    -- Unique --\n",
      "    \n",
      "    adult                      1\n",
      "belongs_to_collection     40\n",
      "budget                    73\n",
      "genres                   145\n",
      "homepage                  17\n",
      "id                       299\n",
      "imdb_id                  299\n",
      "original_language         11\n",
      "original_title           299\n",
      "overview                 298\n",
      "popularity               299\n",
      "poster_path              299\n",
      "production_companies     227\n",
      "production_countries      53\n",
      "release_date             173\n",
      "revenue                  148\n",
      "runtime                   72\n",
      "spoken_languages          58\n",
      "status                     1\n",
      "tagline                  238\n",
      "title                    299\n",
      "video                      1\n",
      "vote_average              51\n",
      "vote_count               190\n",
      "dtype: int64\n",
      "    \n",
      "    -- Head --\n",
      "    \n"
     ]
    },
    {
     "data": {
      "text/html": [
       "<div>\n",
       "<style scoped>\n",
       "    .dataframe tbody tr th:only-of-type {\n",
       "        vertical-align: middle;\n",
       "    }\n",
       "\n",
       "    .dataframe tbody tr th {\n",
       "        vertical-align: top;\n",
       "    }\n",
       "\n",
       "    .dataframe thead th {\n",
       "        text-align: right;\n",
       "    }\n",
       "</style>\n",
       "<table border=\"1\" class=\"dataframe\">\n",
       "  <thead>\n",
       "    <tr style=\"text-align: right;\">\n",
       "      <th></th>\n",
       "      <th>adult</th>\n",
       "      <th>belongs_to_collection</th>\n",
       "      <th>budget</th>\n",
       "      <th>genres</th>\n",
       "      <th>homepage</th>\n",
       "      <th>id</th>\n",
       "      <th>imdb_id</th>\n",
       "      <th>original_language</th>\n",
       "      <th>original_title</th>\n",
       "      <th>overview</th>\n",
       "      <th>...</th>\n",
       "      <th>release_date</th>\n",
       "      <th>revenue</th>\n",
       "      <th>runtime</th>\n",
       "      <th>spoken_languages</th>\n",
       "      <th>status</th>\n",
       "      <th>tagline</th>\n",
       "      <th>title</th>\n",
       "      <th>video</th>\n",
       "      <th>vote_average</th>\n",
       "      <th>vote_count</th>\n",
       "    </tr>\n",
       "  </thead>\n",
       "  <tbody>\n",
       "    <tr>\n",
       "      <th>0</th>\n",
       "      <td>False</td>\n",
       "      <td>{'id': 10194, 'name': 'Toy Story Collection', ...</td>\n",
       "      <td>30000000</td>\n",
       "      <td>[{'id': 16, 'name': 'Animation'}, {'id': 35, '...</td>\n",
       "      <td>http://toystory.disney.com/toy-story</td>\n",
       "      <td>862</td>\n",
       "      <td>tt0114709</td>\n",
       "      <td>en</td>\n",
       "      <td>Toy Story</td>\n",
       "      <td>Led by Woody, Andy's toys live happily in his ...</td>\n",
       "      <td>...</td>\n",
       "      <td>10/30/1995</td>\n",
       "      <td>373554033</td>\n",
       "      <td>81</td>\n",
       "      <td>[{'iso_639_1': 'en', 'name': 'English'}]</td>\n",
       "      <td>Released</td>\n",
       "      <td>NaN</td>\n",
       "      <td>Toy Story</td>\n",
       "      <td>False</td>\n",
       "      <td>7.7</td>\n",
       "      <td>5415</td>\n",
       "    </tr>\n",
       "    <tr>\n",
       "      <th>1</th>\n",
       "      <td>False</td>\n",
       "      <td>NaN</td>\n",
       "      <td>65000000</td>\n",
       "      <td>[{'id': 12, 'name': 'Adventure'}, {'id': 14, '...</td>\n",
       "      <td>NaN</td>\n",
       "      <td>8844</td>\n",
       "      <td>tt0113497</td>\n",
       "      <td>en</td>\n",
       "      <td>Jumanji</td>\n",
       "      <td>When siblings Judy and Peter discover an encha...</td>\n",
       "      <td>...</td>\n",
       "      <td>12/15/1995</td>\n",
       "      <td>262797249</td>\n",
       "      <td>104</td>\n",
       "      <td>[{'iso_639_1': 'en', 'name': 'English'}, {'iso...</td>\n",
       "      <td>Released</td>\n",
       "      <td>Roll the dice and unleash the excitement!</td>\n",
       "      <td>Jumanji</td>\n",
       "      <td>False</td>\n",
       "      <td>6.9</td>\n",
       "      <td>2413</td>\n",
       "    </tr>\n",
       "    <tr>\n",
       "      <th>2</th>\n",
       "      <td>False</td>\n",
       "      <td>{'id': 119050, 'name': 'Grumpy Old Men Collect...</td>\n",
       "      <td>0</td>\n",
       "      <td>[{'id': 10749, 'name': 'Romance'}, {'id': 35, ...</td>\n",
       "      <td>NaN</td>\n",
       "      <td>15602</td>\n",
       "      <td>tt0113228</td>\n",
       "      <td>en</td>\n",
       "      <td>Grumpier Old Men</td>\n",
       "      <td>A family wedding reignites the ancient feud be...</td>\n",
       "      <td>...</td>\n",
       "      <td>12/22/1995</td>\n",
       "      <td>0</td>\n",
       "      <td>101</td>\n",
       "      <td>[{'iso_639_1': 'en', 'name': 'English'}]</td>\n",
       "      <td>Released</td>\n",
       "      <td>Still Yelling. Still Fighting. Still Ready for...</td>\n",
       "      <td>Grumpier Old Men</td>\n",
       "      <td>False</td>\n",
       "      <td>6.5</td>\n",
       "      <td>92</td>\n",
       "    </tr>\n",
       "    <tr>\n",
       "      <th>3</th>\n",
       "      <td>False</td>\n",
       "      <td>NaN</td>\n",
       "      <td>16000000</td>\n",
       "      <td>[{'id': 35, 'name': 'Comedy'}, {'id': 18, 'nam...</td>\n",
       "      <td>NaN</td>\n",
       "      <td>31357</td>\n",
       "      <td>tt0114885</td>\n",
       "      <td>en</td>\n",
       "      <td>Waiting to Exhale</td>\n",
       "      <td>Cheated on, mistreated and stepped on, the wom...</td>\n",
       "      <td>...</td>\n",
       "      <td>12/22/1995</td>\n",
       "      <td>81452156</td>\n",
       "      <td>127</td>\n",
       "      <td>[{'iso_639_1': 'en', 'name': 'English'}]</td>\n",
       "      <td>Released</td>\n",
       "      <td>Friends are the people who let you be yourself...</td>\n",
       "      <td>Waiting to Exhale</td>\n",
       "      <td>False</td>\n",
       "      <td>6.1</td>\n",
       "      <td>34</td>\n",
       "    </tr>\n",
       "    <tr>\n",
       "      <th>4</th>\n",
       "      <td>False</td>\n",
       "      <td>{'id': 96871, 'name': 'Father of the Bride Col...</td>\n",
       "      <td>0</td>\n",
       "      <td>[{'id': 35, 'name': 'Comedy'}]</td>\n",
       "      <td>NaN</td>\n",
       "      <td>11862</td>\n",
       "      <td>tt0113041</td>\n",
       "      <td>en</td>\n",
       "      <td>Father of the Bride Part II</td>\n",
       "      <td>Just when George Banks has recovered from his ...</td>\n",
       "      <td>...</td>\n",
       "      <td>2/10/1995</td>\n",
       "      <td>76578911</td>\n",
       "      <td>106</td>\n",
       "      <td>[{'iso_639_1': 'en', 'name': 'English'}]</td>\n",
       "      <td>Released</td>\n",
       "      <td>Just When His World Is Back To Normal... He's ...</td>\n",
       "      <td>Father of the Bride Part II</td>\n",
       "      <td>False</td>\n",
       "      <td>5.7</td>\n",
       "      <td>173</td>\n",
       "    </tr>\n",
       "  </tbody>\n",
       "</table>\n",
       "<p>5 rows × 24 columns</p>\n",
       "</div>"
      ],
      "text/plain": [
       "   adult                              belongs_to_collection    budget  \\\n",
       "0  False  {'id': 10194, 'name': 'Toy Story Collection', ...  30000000   \n",
       "1  False                                                NaN  65000000   \n",
       "2  False  {'id': 119050, 'name': 'Grumpy Old Men Collect...         0   \n",
       "3  False                                                NaN  16000000   \n",
       "4  False  {'id': 96871, 'name': 'Father of the Bride Col...         0   \n",
       "\n",
       "                                              genres  \\\n",
       "0  [{'id': 16, 'name': 'Animation'}, {'id': 35, '...   \n",
       "1  [{'id': 12, 'name': 'Adventure'}, {'id': 14, '...   \n",
       "2  [{'id': 10749, 'name': 'Romance'}, {'id': 35, ...   \n",
       "3  [{'id': 35, 'name': 'Comedy'}, {'id': 18, 'nam...   \n",
       "4                     [{'id': 35, 'name': 'Comedy'}]   \n",
       "\n",
       "                               homepage     id    imdb_id original_language  \\\n",
       "0  http://toystory.disney.com/toy-story    862  tt0114709                en   \n",
       "1                                   NaN   8844  tt0113497                en   \n",
       "2                                   NaN  15602  tt0113228                en   \n",
       "3                                   NaN  31357  tt0114885                en   \n",
       "4                                   NaN  11862  tt0113041                en   \n",
       "\n",
       "                original_title  \\\n",
       "0                    Toy Story   \n",
       "1                      Jumanji   \n",
       "2             Grumpier Old Men   \n",
       "3            Waiting to Exhale   \n",
       "4  Father of the Bride Part II   \n",
       "\n",
       "                                            overview  ...  release_date  \\\n",
       "0  Led by Woody, Andy's toys live happily in his ...  ...    10/30/1995   \n",
       "1  When siblings Judy and Peter discover an encha...  ...    12/15/1995   \n",
       "2  A family wedding reignites the ancient feud be...  ...    12/22/1995   \n",
       "3  Cheated on, mistreated and stepped on, the wom...  ...    12/22/1995   \n",
       "4  Just when George Banks has recovered from his ...  ...     2/10/1995   \n",
       "\n",
       "     revenue runtime                                   spoken_languages  \\\n",
       "0  373554033      81           [{'iso_639_1': 'en', 'name': 'English'}]   \n",
       "1  262797249     104  [{'iso_639_1': 'en', 'name': 'English'}, {'iso...   \n",
       "2          0     101           [{'iso_639_1': 'en', 'name': 'English'}]   \n",
       "3   81452156     127           [{'iso_639_1': 'en', 'name': 'English'}]   \n",
       "4   76578911     106           [{'iso_639_1': 'en', 'name': 'English'}]   \n",
       "\n",
       "     status                                            tagline  \\\n",
       "0  Released                                                NaN   \n",
       "1  Released          Roll the dice and unleash the excitement!   \n",
       "2  Released  Still Yelling. Still Fighting. Still Ready for...   \n",
       "3  Released  Friends are the people who let you be yourself...   \n",
       "4  Released  Just When His World Is Back To Normal... He's ...   \n",
       "\n",
       "                         title  video vote_average vote_count  \n",
       "0                    Toy Story  False          7.7       5415  \n",
       "1                      Jumanji  False          6.9       2413  \n",
       "2             Grumpier Old Men  False          6.5         92  \n",
       "3            Waiting to Exhale  False          6.1         34  \n",
       "4  Father of the Bride Part II  False          5.7        173  \n",
       "\n",
       "[5 rows x 24 columns]"
      ]
     },
     "execution_count": 102,
     "metadata": {},
     "output_type": "execute_result"
    }
   ],
   "source": [
    "def eda(dataframe):\n",
    "    print(f\"\"\"\n",
    "    \n",
    "    -- Info --\n",
    "    \n",
    "    {dataframe.dtypes}\n",
    "    \n",
    "    -- NaN Values --\n",
    "    \n",
    "    {dataframe.isnull().sum()}\n",
    "    \n",
    "    -- Shape --\n",
    "    \n",
    "    {dataframe.shape}\n",
    "    \n",
    "    -- Unique --\n",
    "    \n",
    "    {df.apply(lambda x: x.nunique())}\n",
    "    \n",
    "    -- Head --\n",
    "    \"\"\")\n",
    "    \n",
    "    \n",
    "    return dataframe.head()\n",
    "eda(df)"
   ]
  },
  {
   "cell_type": "code",
   "execution_count": 103,
   "metadata": {},
   "outputs": [
    {
     "data": {
      "text/plain": [
       "0    Led by Woody, Andy's toys live happily in his ...\n",
       "1    When siblings Judy and Peter discover an encha...\n",
       "2    A family wedding reignites the ancient feud be...\n",
       "3    Cheated on, mistreated and stepped on, the wom...\n",
       "4    Just when George Banks has recovered from his ...\n",
       "5    Obsessive master thief, Neil McCauley leads a ...\n",
       "6    An ugly duckling having undergone a remarkable...\n",
       "7    A mischievous young boy, Tom Sawyer, witnesses...\n",
       "8    International action superstar Jean Claude Van...\n",
       "9    James Bond must unmask the mysterious head of ...\n",
       "Name: overview, dtype: object"
      ]
     },
     "execution_count": 103,
     "metadata": {},
     "output_type": "execute_result"
    }
   ],
   "source": [
    "df['overview'].head(10)"
   ]
  },
  {
   "cell_type": "code",
   "execution_count": 104,
   "metadata": {},
   "outputs": [],
   "source": [
    "# Drop empty and duplicate data\n",
    "df = df[~df[\"title\"].duplicated(keep='last')]\n",
    "df = df[~df[\"title\"].isna()]\n",
    "df = df[~df[\"overview\"].isna()]"
   ]
  },
  {
   "attachments": {},
   "cell_type": "markdown",
   "metadata": {},
   "source": [
    "We require to remove the stop words in the text:\n",
    "\n",
    "Stop Words:\n",
    "Stop words are common words that are often removed from text during natural language processing because they are not considered to be meaningful in determining the overall meaning of a sentence or document. Stop words include words such as \"the\", \"a\", \"an\", \"and\", \"in\", \"of\", \"to\", \"that\", \"it\", and \"for\"."
   ]
  },
  {
   "cell_type": "code",
   "execution_count": 105,
   "metadata": {},
   "outputs": [
    {
     "data": {
      "text/plain": [
       "(-1.25, 1.25, -1.25, 1.25)"
      ]
     },
     "execution_count": 105,
     "metadata": {},
     "output_type": "execute_result"
    },
    {
     "data": {
      "image/png": "[encoded data removed]",
      "text/plain": [
       "<Figure size 1008x432 with 2 Axes>"
      ]
     },
     "metadata": {
      "needs_background": "light"
     },
     "output_type": "display_data"
    }
   ],
   "source": [
    "import seaborn as sns\n",
    "import matplotlib.pyplot as plt\n",
    "from collections import Counter\n",
    "\n",
    "genres_list = []\n",
    "for i in df['genres']:\n",
    "    genres_list.extend(i.split(', '))\n",
    "\n",
    "fig, axes = plt.subplots(nrows=1, ncols=2, figsize=(14,6))\n",
    "\n",
    "df_plot = pd.DataFrame(Counter(genres_list).most_common(5), columns=['genre', 'total'])\n",
    "ax = sns.barplot(data=df_plot, x='genre', y='total', ax=axes[0], palette=['#06837f', '#02cecb', '#b4ffff', '#f8e16c', '#fed811'])\n",
    "ax.set_title('Top 5 Genres in Movies', fontsize=18, weight=600, color='#333d29')\n",
    "sns.despine()\n",
    "\n",
    "df_plot_full = pd.DataFrame([Counter(genres_list)]).transpose().sort_values(by=0, ascending=False)\n",
    "df_plot.loc[len(df_plot)] = {'genre': 'Others', 'total':df_plot_full[6:].sum()[0]}\n",
    "plt.title('Percentage Ratio of Movie Genres', fontsize=18, weight=600, color='#333d29')\n",
    "wedges, texts, autotexts = axes[1].pie(x=df_plot['total'], labels=df_plot['genre'], autopct='%.2f%%',\n",
    "                                       textprops=dict(fontsize=14), explode=[0,0,0,0,0,0.1], colors=['#06837f', '#02cecb', '#b4ffff', '#f8e16c', '#fed811', '#fdc100'])\n",
    "\n",
    "for autotext in autotexts:\n",
    "    autotext.set_color('#1c2541')\n",
    "    autotext.set_weight('bold')\n",
    "\n",
    "axes[1].axis('off')"
   ]
  },
  {
   "attachments": {},
   "cell_type": "markdown",
   "metadata": {},
   "source": [
    "Creating the TF-IDF Matrix"
   ]
  },
  {
   "cell_type": "code",
   "execution_count": 106,
   "metadata": {},
   "outputs": [
    {
     "name": "stdout",
     "output_type": "stream",
     "text": [
      "(298, 4283)\n"
     ]
    }
   ],
   "source": [
    "tfidf = TfidfVectorizer(stop_words=\"english\")\n",
    "\n",
    "tfidf_matrix = tfidf.fit_transform(df['overview'])\n",
    "\n",
    "print(tfidf_matrix.shape)"
   ]
  },
  {
   "attachments": {},
   "cell_type": "markdown",
   "metadata": {},
   "source": [
    "Creating the Cosine Similarity Matrix"
   ]
  },
  {
   "cell_type": "code",
   "execution_count": 107,
   "metadata": {},
   "outputs": [
    {
     "name": "stdout",
     "output_type": "stream",
     "text": [
      "(298, 298)\n"
     ]
    },
    {
     "data": {
      "text/plain": [
       "array([0.01628204, 1.        , 0.05253111, 0.        , 0.        ,\n",
       "       0.06419695, 0.        , 0.        , 0.13086196, 0.        ,\n",
       "       0.01160623, 0.        , 0.        , 0.01171374, 0.        ,\n",
       "       0.        , 0.        , 0.0295825 , 0.        , 0.        ,\n",
       "       0.        , 0.        , 0.00906714, 0.        , 0.        ,\n",
       "       0.02889496, 0.02679741, 0.01092294, 0.        , 0.        ,\n",
       "       0.        , 0.03762413, 0.00835142, 0.00725783, 0.        ,\n",
       "       0.        , 0.        , 0.        , 0.        , 0.        ,\n",
       "       0.        , 0.        , 0.03046493, 0.        , 0.        ,\n",
       "       0.02281603, 0.01088353, 0.        , 0.01783881, 0.0078276 ,\n",
       "       0.        , 0.03172863, 0.        , 0.        , 0.        ,\n",
       "       0.        , 0.        , 0.        , 0.        , 0.        ,\n",
       "       0.        , 0.01545836, 0.        , 0.02250888, 0.0102981 ,\n",
       "       0.        , 0.        , 0.        , 0.        , 0.        ,\n",
       "       0.        , 0.01272245, 0.        , 0.        , 0.        ,\n",
       "       0.        , 0.01008183, 0.        , 0.        , 0.        ,\n",
       "       0.00803975, 0.00743874, 0.        , 0.        , 0.0406341 ,\n",
       "       0.        , 0.        , 0.        , 0.01899258, 0.        ,\n",
       "       0.        , 0.        , 0.01758659, 0.01873101, 0.        ,\n",
       "       0.0773051 , 0.01635573, 0.        , 0.        , 0.        ,\n",
       "       0.        , 0.        , 0.        , 0.        , 0.02159557,\n",
       "       0.        , 0.        , 0.        , 0.        , 0.        ,\n",
       "       0.        , 0.        , 0.01311678, 0.0107438 , 0.        ,\n",
       "       0.        , 0.        , 0.0116738 , 0.        , 0.        ,\n",
       "       0.        , 0.        , 0.        , 0.05782561, 0.        ,\n",
       "       0.012596  , 0.        , 0.01472861, 0.        , 0.        ,\n",
       "       0.        , 0.02209195, 0.        , 0.        , 0.01487602,\n",
       "       0.        , 0.        , 0.        , 0.        , 0.        ,\n",
       "       0.        , 0.        , 0.        , 0.01648811, 0.        ,\n",
       "       0.        , 0.        , 0.        , 0.        , 0.        ,\n",
       "       0.        , 0.02428837, 0.        , 0.        , 0.        ,\n",
       "       0.        , 0.        , 0.        , 0.        , 0.        ,\n",
       "       0.0082992 , 0.05456515, 0.        , 0.        , 0.        ,\n",
       "       0.05455267, 0.01668052, 0.        , 0.01374834, 0.        ,\n",
       "       0.0502343 , 0.00630563, 0.        , 0.01725513, 0.        ,\n",
       "       0.        , 0.        , 0.02031167, 0.04789517, 0.02389662,\n",
       "       0.        , 0.05005035, 0.        , 0.04129633, 0.        ,\n",
       "       0.        , 0.        , 0.        , 0.        , 0.        ,\n",
       "       0.        , 0.        , 0.        , 0.        , 0.        ,\n",
       "       0.        , 0.        , 0.        , 0.        , 0.        ,\n",
       "       0.        , 0.        , 0.01491387, 0.01662764, 0.00973141,\n",
       "       0.        , 0.        , 0.01282785, 0.        , 0.        ,\n",
       "       0.        , 0.        , 0.01922771, 0.        , 0.        ,\n",
       "       0.02202914, 0.        , 0.        , 0.        , 0.00833119,\n",
       "       0.        , 0.        , 0.01471384, 0.        , 0.        ,\n",
       "       0.0128845 , 0.        , 0.02374482, 0.        , 0.        ,\n",
       "       0.        , 0.        , 0.01969031, 0.        , 0.        ,\n",
       "       0.        , 0.        , 0.        , 0.        , 0.        ,\n",
       "       0.        , 0.02863975, 0.        , 0.        , 0.        ,\n",
       "       0.01917624, 0.        , 0.        , 0.        , 0.        ,\n",
       "       0.        , 0.        , 0.01435916, 0.01499717, 0.00981617,\n",
       "       0.01627026, 0.        , 0.        , 0.        , 0.        ,\n",
       "       0.        , 0.0291088 , 0.0319849 , 0.        , 0.01009886,\n",
       "       0.02346125, 0.01213748, 0.06955725, 0.        , 0.        ,\n",
       "       0.        , 0.        , 0.        , 0.        , 0.        ,\n",
       "       0.01264105, 0.        , 0.        , 0.00967234, 0.03408012,\n",
       "       0.01436974, 0.01448638, 0.        , 0.        , 0.0279175 ,\n",
       "       0.        , 0.02357144, 0.        , 0.02303746, 0.        ,\n",
       "       0.        , 0.        , 0.0129198 , 0.        , 0.        ,\n",
       "       0.        , 0.        , 0.        ])"
      ]
     },
     "execution_count": 107,
     "metadata": {},
     "output_type": "execute_result"
    }
   ],
   "source": [
    "cosine_sim = cosine_similarity(tfidf_matrix,\n",
    "                               tfidf_matrix)\n",
    "\n",
    "print(cosine_sim.shape)\n",
    "cosine_sim[1]\n"
   ]
  },
  {
   "attachments": {},
   "cell_type": "markdown",
   "metadata": {},
   "source": [
    "Making Suggestions Based on Similarities"
   ]
  },
  {
   "cell_type": "code",
   "execution_count": 108,
   "metadata": {},
   "outputs": [
    {
     "name": "stdout",
     "output_type": "stream",
     "text": [
      "Mortal Kombat ID: 43\n"
     ]
    }
   ],
   "source": [
    "indices = pd.Series(df.index, index=df['title'])\n",
    "print('Mortal Kombat ID:',indices[\"Mortal Kombat\"])"
   ]
  },
  {
   "cell_type": "code",
   "execution_count": 109,
   "metadata": {},
   "outputs": [
    {
     "data": {
      "text/plain": [
       "array([0.        , 0.        , 0.        , 0.        , 0.        ,\n",
       "       0.        , 0.        , 0.        , 0.07156334, 0.        ,\n",
       "       0.03362342, 0.04629279, 0.        , 0.        , 0.        ,\n",
       "       0.06091752, 0.        , 0.        , 0.        , 0.        ,\n",
       "       0.03391153, 0.03642368, 0.02626764, 0.        , 0.        ,\n",
       "       0.        , 0.        , 0.02625688, 0.        , 0.        ,\n",
       "       0.        , 0.        , 0.02419418, 0.        , 0.03892812,\n",
       "       0.        , 0.        , 0.        , 0.        , 0.        ,\n",
       "       0.        , 0.01717293, 0.        , 1.        , 0.        ,\n",
       "       0.05064905, 0.        , 0.        , 0.        , 0.02998986,\n",
       "       0.05653841, 0.        , 0.02052892, 0.        , 0.        ,\n",
       "       0.        , 0.        , 0.        , 0.        , 0.03012068,\n",
       "       0.02357531, 0.        , 0.05027734, 0.        , 0.02983375,\n",
       "       0.        , 0.04250466, 0.        , 0.        , 0.        ,\n",
       "       0.07052815, 0.        , 0.        , 0.04641987, 0.03116472,\n",
       "       0.        , 0.        , 0.        , 0.        , 0.        ,\n",
       "       0.        , 0.        , 0.        , 0.03877878, 0.        ,\n",
       "       0.        , 0.        , 0.        , 0.        , 0.        ,\n",
       "       0.        , 0.        , 0.        , 0.01845976, 0.03199287,\n",
       "       0.0243242 , 0.        , 0.        , 0.        , 0.        ,\n",
       "       0.        , 0.        , 0.        , 0.        , 0.        ,\n",
       "       0.        , 0.        , 0.        , 0.        , 0.        ,\n",
       "       0.        , 0.        , 0.03692178, 0.        , 0.        ,\n",
       "       0.        , 0.0157072 , 0.        , 0.        , 0.02644317,\n",
       "       0.        , 0.        , 0.        , 0.        , 0.        ,\n",
       "       0.        , 0.04549891, 0.        , 0.        , 0.02737929,\n",
       "       0.        , 0.        , 0.        , 0.        , 0.02852453,\n",
       "       0.        , 0.        , 0.07748946, 0.        , 0.        ,\n",
       "       0.        , 0.        , 0.        , 0.        , 0.        ,\n",
       "       0.        , 0.02062983, 0.        , 0.        , 0.02180457,\n",
       "       0.03655467, 0.0168064 , 0.        , 0.0718149 , 0.        ,\n",
       "       0.        , 0.        , 0.        , 0.03596982, 0.        ,\n",
       "       0.01925614, 0.        , 0.        , 0.        , 0.01921428,\n",
       "       0.        , 0.        , 0.        , 0.        , 0.        ,\n",
       "       0.        , 0.        , 0.11544357, 0.        , 0.04440881,\n",
       "       0.        , 0.        , 0.        , 0.        , 0.        ,\n",
       "       0.03307481, 0.        , 0.        , 0.        , 0.        ,\n",
       "       0.03234596, 0.        , 0.        , 0.        , 0.        ,\n",
       "       0.        , 0.        , 0.02987704, 0.        , 0.02595774,\n",
       "       0.        , 0.        , 0.        , 0.        , 0.        ,\n",
       "       0.        , 0.        , 0.02622079, 0.03182447, 0.        ,\n",
       "       0.05306726, 0.        , 0.        , 0.        , 0.        ,\n",
       "       0.02032747, 0.        , 0.02616882, 0.        , 0.        ,\n",
       "       0.        , 0.03777751, 0.        , 0.        , 0.        ,\n",
       "       0.        , 0.02655329, 0.        , 0.        , 0.        ,\n",
       "       0.0730303 , 0.        , 0.        , 0.        , 0.01862949,\n",
       "       0.05895538, 0.06001023, 0.        , 0.        , 0.02405026,\n",
       "       0.        , 0.0237881 , 0.        , 0.        , 0.01316673,\n",
       "       0.03510656, 0.        , 0.        , 0.        , 0.06553437,\n",
       "       0.01889854, 0.        , 0.        , 0.05115827, 0.        ,\n",
       "       0.        , 0.        , 0.        , 0.        , 0.01205187,\n",
       "       0.        , 0.        , 0.        , 0.        , 0.        ,\n",
       "       0.        , 0.        , 0.        , 0.        , 0.        ,\n",
       "       0.        , 0.01708261, 0.        , 0.        , 0.        ,\n",
       "       0.        , 0.        , 0.06352734, 0.        , 0.        ,\n",
       "       0.        , 0.        , 0.        , 0.        , 0.01595521,\n",
       "       0.        , 0.        , 0.03624182, 0.        , 0.        ,\n",
       "       0.0261907 , 0.        , 0.03515288, 0.        , 0.        ,\n",
       "       0.        , 0.        , 0.        , 0.        , 0.        ,\n",
       "       0.        , 0.01748916, 0.        ])"
      ]
     },
     "execution_count": 109,
     "metadata": {},
     "output_type": "execute_result"
    }
   ],
   "source": [
    "movie_index = indices[\"Mortal Kombat\"]\n",
    "\n",
    "cosine_sim[movie_index]"
   ]
  },
  {
   "cell_type": "code",
   "execution_count": 110,
   "metadata": {},
   "outputs": [
    {
     "data": {
      "text/html": [
       "<div>\n",
       "<style scoped>\n",
       "    .dataframe tbody tr th:only-of-type {\n",
       "        vertical-align: middle;\n",
       "    }\n",
       "\n",
       "    .dataframe tbody tr th {\n",
       "        vertical-align: top;\n",
       "    }\n",
       "\n",
       "    .dataframe thead th {\n",
       "        text-align: right;\n",
       "    }\n",
       "</style>\n",
       "<table border=\"1\" class=\"dataframe\">\n",
       "  <thead>\n",
       "    <tr style=\"text-align: right;\">\n",
       "      <th></th>\n",
       "      <th>score</th>\n",
       "    </tr>\n",
       "  </thead>\n",
       "  <tbody>\n",
       "    <tr>\n",
       "      <th>0</th>\n",
       "      <td>0.000000</td>\n",
       "    </tr>\n",
       "    <tr>\n",
       "      <th>1</th>\n",
       "      <td>0.000000</td>\n",
       "    </tr>\n",
       "    <tr>\n",
       "      <th>2</th>\n",
       "      <td>0.000000</td>\n",
       "    </tr>\n",
       "    <tr>\n",
       "      <th>3</th>\n",
       "      <td>0.000000</td>\n",
       "    </tr>\n",
       "    <tr>\n",
       "      <th>4</th>\n",
       "      <td>0.000000</td>\n",
       "    </tr>\n",
       "    <tr>\n",
       "      <th>...</th>\n",
       "      <td>...</td>\n",
       "    </tr>\n",
       "    <tr>\n",
       "      <th>293</th>\n",
       "      <td>0.000000</td>\n",
       "    </tr>\n",
       "    <tr>\n",
       "      <th>294</th>\n",
       "      <td>0.000000</td>\n",
       "    </tr>\n",
       "    <tr>\n",
       "      <th>295</th>\n",
       "      <td>0.000000</td>\n",
       "    </tr>\n",
       "    <tr>\n",
       "      <th>296</th>\n",
       "      <td>0.017489</td>\n",
       "    </tr>\n",
       "    <tr>\n",
       "      <th>297</th>\n",
       "      <td>0.000000</td>\n",
       "    </tr>\n",
       "  </tbody>\n",
       "</table>\n",
       "<p>298 rows × 1 columns</p>\n",
       "</div>"
      ],
      "text/plain": [
       "        score\n",
       "0    0.000000\n",
       "1    0.000000\n",
       "2    0.000000\n",
       "3    0.000000\n",
       "4    0.000000\n",
       "..        ...\n",
       "293  0.000000\n",
       "294  0.000000\n",
       "295  0.000000\n",
       "296  0.017489\n",
       "297  0.000000\n",
       "\n",
       "[298 rows x 1 columns]"
      ]
     },
     "execution_count": 110,
     "metadata": {},
     "output_type": "execute_result"
    }
   ],
   "source": [
    "similarity_scores = pd.DataFrame(cosine_sim[movie_index], columns=[\"score\"])\n",
    "similarity_scores"
   ]
  },
  {
   "attachments": {},
   "cell_type": "markdown",
   "metadata": {},
   "source": [
    "All similarity scores of Mortal Kombat movie and other movies."
   ]
  },
  {
   "cell_type": "code",
   "execution_count": 111,
   "metadata": {},
   "outputs": [
    {
     "name": "stdout",
     "output_type": "stream",
     "text": [
      "Int64Index([172, 137, 225, 153, 8, 70, 244, 272, 15, 231], dtype='int64')\n"
     ]
    }
   ],
   "source": [
    "print(similarity_scores.sort_values(\"score\", ascending=False)[1:11].index)\n",
    "movie_indices = similarity_scores.sort_values(\"score\", ascending=False)[1:11].index"
   ]
  },
  {
   "cell_type": "code",
   "execution_count": 112,
   "metadata": {},
   "outputs": [
    {
     "data": {
      "text/plain": [
       "173        Living in Oblivion\n",
       "138       Up Close & Personal\n",
       "226         Dolores Claiborne\n",
       "154            Canadian Bacon\n",
       "8                Sudden Death\n",
       "71      Kicking and Screaming\n",
       "245          Immortal Beloved\n",
       "273    Miracle on 34th Street\n",
       "15                     Casino\n",
       "232               French Kiss\n",
       "Name: title, dtype: object"
      ]
     },
     "execution_count": 112,
     "metadata": {},
     "output_type": "execute_result"
    }
   ],
   "source": [
    "df['title'].iloc[movie_indices]"
   ]
  },
  {
   "attachments": {},
   "cell_type": "markdown",
   "metadata": {},
   "source": [
    "As a result, If you like the \"Mortal Kombat\" , You can also watch above similar movies"
   ]
  }
 ],
 "metadata": {
  "kernelspec": {
   "display_name": "Python 3",
   "language": "python",
   "name": "python3"
  },
  "language_info": {
   "codemirror_mode": {
    "name": "ipython",
    "version": 3
   },
   "file_extension": ".py",
   "mimetype": "text/x-python",
   "name": "python",
   "nbconvert_exporter": "python",
   "pygments_lexer": "ipython3",
   "version": "3.10.10"
  },
  "orig_nbformat": 4
 },
 "nbformat": 4,
 "nbformat_minor": 2
}
